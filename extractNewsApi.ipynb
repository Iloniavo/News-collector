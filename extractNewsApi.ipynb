{
 "cells": [
  {
   "cell_type": "markdown",
   "metadata": {
    "collapsed": false
   },
   "source": [
    "### Extract and transform data"
   ]
  },
  {
   "cell_type": "code",
   "execution_count": 1,
   "metadata": {
    "ExecuteTime": {
     "end_time": "2023-08-15T05:47:36.084939Z",
     "start_time": "2023-08-15T05:47:25.152577700Z"
    }
   },
   "outputs": [],
   "source": [
    "from datetime import timedelta\n",
    "import json\n",
    "import os\n",
    "import pandas as pd\n",
    "from newsapi import NewsApiClient\n",
    "from dotenv import load_dotenv\n",
    "import requests\n",
    "import ast\n",
    "import boto3\n",
    "\n",
    "load_dotenv()\n",
    "\n",
    "nd_api_key = os.getenv(\"NEWSDATA_API_KEY\")\n",
    "na_api_key = os.getenv(\"NEWSAPI_API_KEY\")\n",
    "\n",
    "def get_data_from_newsdata_api():\n",
    " params = {\n",
    "     \"apiKey\" : nd_api_key,\n",
    "     \"q\": \"pegasus\",\n",
    "     \"language\": \"en\"\n",
    " }\n",
    "\n",
    " response = requests.get(\"https://newsdata.io/api/1/news\", params=params)\n",
    " if response.status_code == 200:\n",
    "        data = response.json()\n",
    "        return data\n",
    " else:\n",
    "        print(\"Error fetching data. Status code:\", response.status_code)\n",
    "        return None\n",
    "\n",
    "def get_data_from_newsapi_api():\n",
    "    newsapi = NewsApiClient(api_key=na_api_key)\n",
    "\n",
    "    today = datetime.today().date()\n",
    "\n",
    "    days_ago = today - timedelta(days=28)\n",
    "\n",
    "    days_ago = days_ago.strftime('%Y-%m-%d')\n",
    "\n",
    "    newsapi_articles = newsapi.get_everything(q='bitcoin',\n",
    "                                      sources='bbc-news,the-verge',\n",
    "                                      domains='bbc.co.uk,techcrunch.com',\n",
    "                                      from_param=days_ago,\n",
    "                                      language='en',\n",
    "                                      sort_by='relevancy')\n",
    "\n",
    "    return newsapi_articles\n",
    "\n",
    "na_df = pd.DataFrame(get_data_from_newsapi_api()[\"articles\"])\n",
    "nd_df = pd.DataFrame(get_data_from_newsdata_api()[\"results\"])\n",
    "\n",
    "# Transform into correct json and get the source only from newsApi\n",
    "def extract_name(row):\n",
    "    correct_json = row.replace(\"'\", \"\\\"\")\n",
    "    data = json.loads(correct_json)\n",
    "    return data['name']\n",
    "\n",
    "na_df[\"source\"] = na_df[\"source\"].apply(extract_name)\n",
    "\n",
    "# Format creator rows for newsData dataframe\n",
    "def format_creator(row):\n",
    "    if row is None or row == 'nan':\n",
    "        return \"Unknown\"\n",
    "    try:\n",
    "        lists = ast.literal_eval(row)\n",
    "        return lists[0]\n",
    "    except (ValueError, SyntaxError):\n",
    "        return \"Unknown\"\n",
    "\n",
    "nd_df[\"creator\"] = nd_df[\"creator\"].apply(format_creator)\n",
    "\n",
    "# Rename all columns for merging\n",
    "nd_df.rename(columns = {\n",
    "    \"pubDate\" : \"publishedAt\",\n",
    "    \"source_id\" : \"source\",\n",
    "    \"creator\": \"author\",\n",
    "    \"link\" : \"url\",\n",
    "    \"image_url\" : \"urlToImage\"\n",
    "}, inplace=True)\n",
    "\n",
    "# Fill all empty or null fields\n",
    "na_df = na_df.fillna(\"Unknown\")\n",
    "nd_df = nd_df.fillna(\"Unknown\")\n",
    "\n"
   ]
  },
  {
   "cell_type": "markdown",
   "metadata": {
    "collapsed": false
   },
   "source": [
    "### Upload to amazon S3"
   ]
  },
  {
   "cell_type": "code",
   "execution_count": 2,
   "metadata": {
    "ExecuteTime": {
     "end_time": "2023-08-15T05:47:45.796695700Z",
     "start_time": "2023-08-15T05:47:36.087021700Z"
    },
    "collapsed": false
   },
   "outputs": [
    {
     "data": {
      "text/plain": [
       "True"
      ]
     },
     "execution_count": 2,
     "metadata": {},
     "output_type": "execute_result"
    }
   ],
   "source": [
    "from datetime import datetime\n",
    "import logging\n",
    "from botocore.exceptions import ClientError\n",
    "\n",
    "final_data_frame = pd.merge(na_df, nd_df, on=['source', 'author', 'title', 'description', 'url', 'urlToImage', 'publishedAt', 'content'], how='outer')\n",
    "\n",
    "final_data_frame = final_data_frame.iloc[:, :-6]\n",
    "\n",
    "final_data_frame.to_csv('final_dataframe.csv')\n",
    "\n",
    "# Upload file to amazon s3\n",
    "def upload_file(file_name, bucket):\n",
    "    \"\"\"Upload a file to an S3 bucket\n",
    "\n",
    "    :param file_name: File to upload\n",
    "    :param bucket: Bucket to upload to\n",
    "    :return: True if file was uploaded, else False\n",
    "    \"\"\"\n",
    "\n",
    "    AWS_ACCESS_KEY_ID = os.getenv(\"AWS_ACCESS_KEY_ID\")\n",
    "    AWS_SECRET_ACCESS_KEY = os.getenv(\"AWS_SECRET_ACCESS_KEY\")\n",
    "\n",
    "    # If S3 object_name was not specified, use file_name\n",
    "\n",
    "    object_name = datetime.today().date().strftime('%Y/%m/%d') + '.csv'\n",
    "\n",
    "    # Upload the file\n",
    "    s3_client = boto3.client('s3', aws_access_key_id=AWS_ACCESS_KEY_ID, aws_secret_access_key=AWS_SECRET_ACCESS_KEY)\n",
    "    try:\n",
    "        response = s3_client.upload_file(file_name, bucket, object_name)\n",
    "    except ClientError as e:\n",
    "        logging.error(e)\n",
    "        return False\n",
    "    return True\n",
    "\n",
    "upload_file('final_dataframe.csv', 'news-collectors')\n"
   ]
  },
  {
   "cell_type": "code",
   "execution_count": 2,
   "metadata": {
    "ExecuteTime": {
     "end_time": "2023-08-15T05:47:45.797694Z",
     "start_time": "2023-08-15T05:47:45.795695500Z"
    },
    "collapsed": false
   },
   "outputs": [],
   "source": []
  }
 ],
 "metadata": {
  "kernelspec": {
   "display_name": "Python 3",
   "language": "python",
   "name": "python3"
  },
  "language_info": {
   "codemirror_mode": {
    "name": "ipython",
    "version": 3
   },
   "file_extension": ".py",
   "mimetype": "text/x-python",
   "name": "python",
   "nbconvert_exporter": "python",
   "pygments_lexer": "ipython3",
   "version": "3.11.4"
  },
  "orig_nbformat": 4
 },
 "nbformat": 4,
 "nbformat_minor": 2
}
