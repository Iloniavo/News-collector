{
 "cells": [
  {
   "cell_type": "code",
   "execution_count": 70,
   "metadata": {
    "ExecuteTime": {
     "end_time": "2023-08-14T18:14:27.246710200Z",
     "start_time": "2023-08-14T18:14:27.215626700Z"
    }
   },
   "outputs": [],
   "source": [
    "import json\n",
    "import os\n",
    "import pandas as pd\n",
    "from newsapi import NewsApiClient\n",
    "from dotenv import load_dotenv\n",
    "import requests\n",
    "import ast\n",
    "\n",
    "load_dotenv()\n",
    "\n",
    "nd_api_key = os.getenv(\"NEWSDATA_API_KEY\")\n",
    "na_api_key = os.getenv(\"NEWSAPI_API_KEY\")\n",
    "\n",
    "def get_data_from_newsdata_api():\n",
    " params = {\n",
    "     \"apiKey\" : nd_api_key,\n",
    "     \"q\": \"pegasus\",\n",
    "     \"language\": \"en\"\n",
    " }\n",
    "\n",
    " response = requests.get(\"https://newsdata.io/api/1/news\", params=params)\n",
    " if response.status_code == 200:\n",
    "        data = response.json()\n",
    "        return data\n",
    " else:\n",
    "        print(\"Error fetching data. Status code:\", response.status_code)\n",
    "        return None\n",
    "\n",
    "def get_data_from_newsapi_api():\n",
    "    newsapi = NewsApiClient(api_key=na_api_key)\n",
    "\n",
    "    newsapi_articles = newsapi.get_everything(q='bitcoin',\n",
    "                                      sources='bbc-news,the-verge',\n",
    "                                      domains='bbc.co.uk,techcrunch.com',\n",
    "                                      from_param='2023-07-14',\n",
    "                                      language='en',\n",
    "                                      sort_by='relevancy')\n",
    "\n",
    "    return newsapi_articles\n",
    "\n",
    "#na_df = pd.DataFrame(get_data_from_newsapi_api()[\"articles\"])\n",
    "#nd_df = pd.DataFrame(get_data_from_newsdata_api()[\"results\"])\n",
    "\n",
    "na_df = pd.read_csv('newsapi.csv')\n",
    "\n",
    "nd_df = pd.read_csv('newsdata.csv')\n",
    "\n",
    "# Transform into correct json and get the source only from newsApi\n",
    "def extract_name(row):\n",
    "    correct_json = row.replace(\"'\", \"\\\"\")\n",
    "    data = json.loads(correct_json)\n",
    "    return data['name']\n",
    "\n",
    "na_df[\"source\"] = na_df[\"source\"].apply(extract_name)\n",
    "\n",
    "# Format creator rows for newsData dataframe\n",
    "def format_creator(row):\n",
    "    if row is None or row == 'nan':\n",
    "        return \"Unknown\"\n",
    "    try:\n",
    "        lists = ast.literal_eval(row)\n",
    "        return lists[0]\n",
    "    except (ValueError, SyntaxError):\n",
    "        return \"Unknown\"\n",
    "\n",
    "nd_df[\"creator\"] = nd_df[\"creator\"].apply(format_creator)\n",
    "\n",
    "# Rename all columns for merging\n",
    "nd_df.rename(columns = {\n",
    "    \"pubDate\" : \"publishedAt\",\n",
    "    \"source_id\" : \"source\",\n",
    "    \"creator\": \"author\",\n",
    "    \"link\" : \"url\",\n",
    "    \"image_url\" : \"urlToImage\"\n",
    "}, inplace=True)\n",
    "\n",
    "# Fill all empty or null fields\n",
    "na_df = na_df.fillna(\"Unknown\")\n",
    "nd_df = nd_df.fillna(\"Unknown\")\n",
    "\n",
    "\n"
   ]
  },
  {
   "cell_type": "code",
   "execution_count": 71,
   "outputs": [
    {
     "data": {
      "text/plain": "   Unnamed: 0_x      source                            author  \\\n0           0.0   The Verge                         Emma Roth   \n1           1.0    BBC News  https://www.facebook.com/bbcnews   \n2           2.0    BBC News  https://www.facebook.com/bbcnews   \n3           3.0  TechCrunch                 Jacquelyn Melinek   \n4           4.0    BBC News                           Unknown   \n\n                                               title  \\\n0  PayPal launches PYUSD stablecoin backed by the...   \n1  Razzlekhan and husband guilty of $4.5bn Bitcoi...   \n2  Scottish university allegedly targeted in rans...   \n3  Monthly NFT sales fell for fifth consecutive m...   \n4            Oceans hit hottest recorded temperature   \n\n                                         description  \\\n0  PayPal has launched a stablecoin called PayPal...   \n1  Heather Morgan and husband Ilya Lichtenstein p...   \n2  Data supposedly belonging to the University of...   \n3  In July, NFT sales totaled $495.6 million, dow...   \n4  The average global sea surface temperature rea...   \n\n                                                 url  \\\n0  https://www.theverge.com/2023/8/7/23822752/pay...   \n1     https://www.bbc.co.uk/news/technology-66390639   \n2  https://www.bbc.co.uk/news/uk-scotland-glasgow...   \n3  https://techcrunch.com/2023/08/03/monthly-nft-...   \n4          https://www.bbc.co.uk/programmes/p0g4wcky   \n\n                                          urlToImage           publishedAt  \\\n0  https://cdn.vox-cdn.com/thumbor/AzUxs8UmwIY2lO...  2023-08-07T14:07:51Z   \n1  https://ichef.bbci.co.uk/news/1024/branded_new...  2023-08-03T18:25:11Z   \n2  https://ichef.bbci.co.uk/news/1024/branded_new...  2023-07-27T21:48:39Z   \n3  https://s.yimg.com/ny/api/res/1.2/haVeaRLpzcQz...  2023-08-03T19:00:40Z   \n4  https://ichef.bbci.co.uk/images/ic/1200x675/p0...  2023-08-04T14:54:00Z   \n\n                                             content  \n0  PayPal launches PYUSD stablecoin backed by the...  \n1  A husband and wife cyber-crime team have plead...  \n2  Data supposedly belonging to the University of...  \n3  Welcome back to Chain Reaction.\\r\\nTo get a ro...  \n4  The average global sea surface temperature rea...  ",
      "text/html": "<div>\n<style scoped>\n    .dataframe tbody tr th:only-of-type {\n        vertical-align: middle;\n    }\n\n    .dataframe tbody tr th {\n        vertical-align: top;\n    }\n\n    .dataframe thead th {\n        text-align: right;\n    }\n</style>\n<table border=\"1\" class=\"dataframe\">\n  <thead>\n    <tr style=\"text-align: right;\">\n      <th></th>\n      <th>Unnamed: 0_x</th>\n      <th>source</th>\n      <th>author</th>\n      <th>title</th>\n      <th>description</th>\n      <th>url</th>\n      <th>urlToImage</th>\n      <th>publishedAt</th>\n      <th>content</th>\n    </tr>\n  </thead>\n  <tbody>\n    <tr>\n      <th>0</th>\n      <td>0.0</td>\n      <td>The Verge</td>\n      <td>Emma Roth</td>\n      <td>PayPal launches PYUSD stablecoin backed by the...</td>\n      <td>PayPal has launched a stablecoin called PayPal...</td>\n      <td>https://www.theverge.com/2023/8/7/23822752/pay...</td>\n      <td>https://cdn.vox-cdn.com/thumbor/AzUxs8UmwIY2lO...</td>\n      <td>2023-08-07T14:07:51Z</td>\n      <td>PayPal launches PYUSD stablecoin backed by the...</td>\n    </tr>\n    <tr>\n      <th>1</th>\n      <td>1.0</td>\n      <td>BBC News</td>\n      <td>https://www.facebook.com/bbcnews</td>\n      <td>Razzlekhan and husband guilty of $4.5bn Bitcoi...</td>\n      <td>Heather Morgan and husband Ilya Lichtenstein p...</td>\n      <td>https://www.bbc.co.uk/news/technology-66390639</td>\n      <td>https://ichef.bbci.co.uk/news/1024/branded_new...</td>\n      <td>2023-08-03T18:25:11Z</td>\n      <td>A husband and wife cyber-crime team have plead...</td>\n    </tr>\n    <tr>\n      <th>2</th>\n      <td>2.0</td>\n      <td>BBC News</td>\n      <td>https://www.facebook.com/bbcnews</td>\n      <td>Scottish university allegedly targeted in rans...</td>\n      <td>Data supposedly belonging to the University of...</td>\n      <td>https://www.bbc.co.uk/news/uk-scotland-glasgow...</td>\n      <td>https://ichef.bbci.co.uk/news/1024/branded_new...</td>\n      <td>2023-07-27T21:48:39Z</td>\n      <td>Data supposedly belonging to the University of...</td>\n    </tr>\n    <tr>\n      <th>3</th>\n      <td>3.0</td>\n      <td>TechCrunch</td>\n      <td>Jacquelyn Melinek</td>\n      <td>Monthly NFT sales fell for fifth consecutive m...</td>\n      <td>In July, NFT sales totaled $495.6 million, dow...</td>\n      <td>https://techcrunch.com/2023/08/03/monthly-nft-...</td>\n      <td>https://s.yimg.com/ny/api/res/1.2/haVeaRLpzcQz...</td>\n      <td>2023-08-03T19:00:40Z</td>\n      <td>Welcome back to Chain Reaction.\\r\\nTo get a ro...</td>\n    </tr>\n    <tr>\n      <th>4</th>\n      <td>4.0</td>\n      <td>BBC News</td>\n      <td>Unknown</td>\n      <td>Oceans hit hottest recorded temperature</td>\n      <td>The average global sea surface temperature rea...</td>\n      <td>https://www.bbc.co.uk/programmes/p0g4wcky</td>\n      <td>https://ichef.bbci.co.uk/images/ic/1200x675/p0...</td>\n      <td>2023-08-04T14:54:00Z</td>\n      <td>The average global sea surface temperature rea...</td>\n    </tr>\n  </tbody>\n</table>\n</div>"
     },
     "execution_count": 71,
     "metadata": {},
     "output_type": "execute_result"
    }
   ],
   "source": [
    "final_data_frame = pd.merge(na_df, nd_df, on=['source', 'author', 'title', 'description', 'url', 'urlToImage', 'publishedAt', 'content'], how='outer')\n",
    "\n",
    "final_data_frame = final_data_frame.iloc[:, :-6]\n",
    "\n",
    "final_data_frame.head()\n",
    "\n",
    "\n",
    "\n",
    "\n",
    "\n"
   ],
   "metadata": {
    "collapsed": false,
    "ExecuteTime": {
     "end_time": "2023-08-14T18:14:27.393103900Z",
     "start_time": "2023-08-14T18:14:27.242712100Z"
    }
   }
  },
  {
   "cell_type": "code",
   "execution_count": 71,
   "outputs": [],
   "source": [],
   "metadata": {
    "collapsed": false,
    "ExecuteTime": {
     "end_time": "2023-08-14T18:14:27.398911700Z",
     "start_time": "2023-08-14T18:14:27.395103500Z"
    }
   }
  }
 ],
 "metadata": {
  "kernelspec": {
   "display_name": "Python 3",
   "language": "python",
   "name": "python3"
  },
  "language_info": {
   "codemirror_mode": {
    "name": "ipython",
    "version": 3
   },
   "file_extension": ".py",
   "mimetype": "text/x-python",
   "name": "python",
   "nbconvert_exporter": "python",
   "pygments_lexer": "ipython3",
   "version": "3.11.4"
  },
  "orig_nbformat": 4
 },
 "nbformat": 4,
 "nbformat_minor": 2
}
