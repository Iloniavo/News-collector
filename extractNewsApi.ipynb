{
 "cells": [
  {
   "cell_type": "code",
   "execution_count": 27,
   "metadata": {
    "ExecuteTime": {
     "end_time": "2023-08-13T18:57:24.831395800Z",
     "start_time": "2023-08-13T18:57:22.180327900Z"
    }
   },
   "outputs": [],
   "source": [
    "import os\n",
    "import pandas as pd\n",
    "from newsapi import NewsApiClient\n",
    "from dotenv import load_dotenv\n",
    "import requests\n",
    "\n",
    "load_dotenv()\n",
    "\n",
    "nd_api_key = os.getenv(\"NEWSDATA_API_KEY\")\n",
    "na_api_key = os.getenv(\"NEWSAPI_API_KEY\")\n",
    "\n",
    "def get_data_from_newsdata_api():\n",
    " params = {\n",
    "     \"apiKey\" : nd_api_key,\n",
    "     \"q\": \"pegasus\",\n",
    "     \"language\": \"en\"\n",
    " }\n",
    "\n",
    " response = requests.get(\"https://newsdata.io/api/1/news\", params=params)\n",
    " if response.status_code == 200:\n",
    "        data = response.json()\n",
    "        return data\n",
    " else:\n",
    "        print(\"Error fetching data. Status code:\", response.status_code)\n",
    "        return None\n",
    "\n",
    "def get_data_from_newsapi_api():\n",
    "    newsapi = NewsApiClient(api_key=na_api_key)\n",
    "\n",
    "    newsapi_articles = newsapi.get_everything(q='bitcoin',\n",
    "                                      sources='bbc-news,the-verge',\n",
    "                                      domains='bbc.co.uk,techcrunch.com',\n",
    "                                      from_param='2023-07-13',\n",
    "                                      language='en',\n",
    "                                      sort_by='relevancy')\n",
    "\n",
    "    return newsapi_articles\n",
    "\n",
    "na_df = pd.DataFrame(get_data_from_newsapi_api()[\"articles\"])\n",
    "nd_df = pd.DataFrame(get_data_from_newsdata_api()[\"results\"])\n",
    "\n",
    "\n"
   ]
  }
 ],
 "metadata": {
  "kernelspec": {
   "display_name": "Python 3",
   "language": "python",
   "name": "python3"
  },
  "language_info": {
   "codemirror_mode": {
    "name": "ipython",
    "version": 3
   },
   "file_extension": ".py",
   "mimetype": "text/x-python",
   "name": "python",
   "nbconvert_exporter": "python",
   "pygments_lexer": "ipython3",
   "version": "3.11.4"
  },
  "orig_nbformat": 4
 },
 "nbformat": 4,
 "nbformat_minor": 2
}
